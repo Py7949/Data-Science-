{
  "nbformat": 4,
  "nbformat_minor": 0,
  "metadata": {
    "colab": {
      "provenance": [],
      "authorship_tag": "ABX9TyPuZDZuRQjuolGzb2FjkatV",
      "include_colab_link": true
    },
    "kernelspec": {
      "name": "python3",
      "display_name": "Python 3"
    },
    "language_info": {
      "name": "python"
    }
  },
  "cells": [
    {
      "cell_type": "markdown",
      "metadata": {
        "id": "view-in-github",
        "colab_type": "text"
      },
      "source": [
        "<a href=\"https://colab.research.google.com/github/Py7949/Data-Science-/blob/main/Untitled2.ipynb\" target=\"_parent\"><img src=\"https://colab.research.google.com/assets/colab-badge.svg\" alt=\"Open In Colab\"/></a>"
      ]
    },
    {
      "cell_type": "code",
      "execution_count": null,
      "metadata": {
        "id": "9Q33vjkTHgUC"
      },
      "outputs": [],
      "source": []
    },
    {
      "cell_type": "markdown",
      "source": [
        "**List**"
      ],
      "metadata": {
        "id": "DIMZKe0oU6Ur"
      }
    },
    {
      "cell_type": "code",
      "source": [
        "q = 2\n",
        "print(id(2))"
      ],
      "metadata": {
        "colab": {
          "base_uri": "https://localhost:8080/"
        },
        "id": "cHBsSRFxOv6T",
        "outputId": "472a0dbf-2051-4d67-c271-1325aea8cdbd"
      },
      "execution_count": 1,
      "outputs": [
        {
          "output_type": "stream",
          "name": "stdout",
          "text": [
            "10750888\n"
          ]
        }
      ]
    },
    {
      "cell_type": "code",
      "source": [
        "l = [1,2,3]\n",
        "print(id(l))\n",
        "print(id(l[0]))\n",
        "print(id(l[1]))\n",
        "print(id(l[2]))\n",
        "print(id(1))\n",
        "print(id(2))\n",
        "print(id(3))\n"
      ],
      "metadata": {
        "colab": {
          "base_uri": "https://localhost:8080/"
        },
        "id": "xeCPLDcyOPK9",
        "outputId": "70a058a4-8e88-4292-9879-95ffa0d31712"
      },
      "execution_count": 4,
      "outputs": [
        {
          "output_type": "stream",
          "name": "stdout",
          "text": [
            "140043611989184\n",
            "10750856\n",
            "10750888\n",
            "10750920\n",
            "10750856\n",
            "10750888\n",
            "10750920\n"
          ]
        }
      ]
    },
    {
      "cell_type": "code",
      "source": [
        "L = [1,2,4,5,9]\n",
        "L1 = [3,2,1,6,8]\n",
        "L = L1\n",
        "L="
      ],
      "metadata": {
        "id": "Zr4XpfA7PDjL"
      },
      "execution_count": null,
      "outputs": []
    },
    {
      "cell_type": "markdown",
      "source": [
        "**Creating a List**"
      ],
      "metadata": {
        "id": "2dFB385CSYmL"
      }
    },
    {
      "cell_type": "code",
      "source": [
        "#Empty\n",
        "print([])\n",
        "#1D\n",
        "print([1,2,3])\n",
        "#2D\n",
        "print([1,3,4,6,[4,5]])\n",
        "#3D\n",
        "print([[[1,2],[3,4]],[[5,6],[7,8]]])\n",
        "#hetrogeneous\n",
        "print(1,True,5.6,5+6j,'Hello')\n",
        "#Using  Type conversion\n",
        "print(list('Hello'))"
      ],
      "metadata": {
        "colab": {
          "base_uri": "https://localhost:8080/"
        },
        "id": "Xb-n-3b3SlM-",
        "outputId": "252f9cf5-5ff2-428b-daf4-523e47a8b0b1"
      },
      "execution_count": 6,
      "outputs": [
        {
          "output_type": "stream",
          "name": "stdout",
          "text": [
            "[]\n",
            "[1, 2, 3]\n",
            "[1, 3, 4, 6, [4, 5]]\n",
            "[[[1, 2], [3, 4]], [[5, 6], [7, 8]]]\n",
            "1 True 5.6 (5+6j) Hello\n",
            "['H', 'e', 'l', 'l', 'o']\n"
          ]
        }
      ]
    },
    {
      "cell_type": "code",
      "source": [],
      "metadata": {
        "id": "yYovGmS-UCzv"
      },
      "execution_count": null,
      "outputs": []
    },
    {
      "cell_type": "markdown",
      "source": [
        "**Accessing Items from a List**"
      ],
      "metadata": {
        "id": "LuIJMPlNUkSI"
      }
    },
    {
      "cell_type": "code",
      "source": [
        "#Indexing\n",
        "L = [1,2,3,4,5]\n",
        "#Positive Indexing\n",
        "print(L[0])\n",
        "#Negative Indexing\n",
        "print(L[-1])\n",
        "\n",
        "#2D\n",
        "L = [1,2,3,[4,5]]\n",
        "print(L[3][0])\n",
        "print(L[-1][-2])\n",
        "\n",
        "#3D\n",
        "L = ([[[1,2],[3,4]],[[5,6],[7,8]]])\n",
        "print(L[0][0][1])"
      ],
      "metadata": {
        "colab": {
          "base_uri": "https://localhost:8080/"
        },
        "id": "UQsvq3HiUumV",
        "outputId": "b46a7882-bc9f-4697-920c-321519514f5e"
      },
      "execution_count": 3,
      "outputs": [
        {
          "output_type": "stream",
          "name": "stdout",
          "text": [
            "1\n",
            "5\n",
            "4\n",
            "4\n",
            "2\n"
          ]
        }
      ]
    },
    {
      "cell_type": "code",
      "source": [
        "# Slicing\n",
        "L = [1,2,3,4,5]\n",
        "print(L[0:3])\n",
        "print(L[0::2])\n",
        "print(L[-5:-2:2])\n",
        "print(L[::-1])"
      ],
      "metadata": {
        "colab": {
          "base_uri": "https://localhost:8080/"
        },
        "id": "QFTFERbNVhdZ",
        "outputId": "78c436fc-a25a-4b7c-ca17-aca81aec77bc"
      },
      "execution_count": 7,
      "outputs": [
        {
          "output_type": "stream",
          "name": "stdout",
          "text": [
            "[1, 2, 3]\n",
            "[1, 3, 5]\n",
            "[1, 3]\n",
            "[5, 4, 3, 2, 1]\n"
          ]
        }
      ]
    },
    {
      "cell_type": "markdown",
      "source": [
        "**Adding Item to a List**"
      ],
      "metadata": {
        "id": "tOMvIR0xKlgv"
      }
    },
    {
      "cell_type": "code",
      "source": [
        "#Append\n",
        "L = [1,2,3,4,5]\n",
        "L.append(6)\n",
        "print(L)\n",
        "L.append([7,8])\n",
        "print(L)"
      ],
      "metadata": {
        "colab": {
          "base_uri": "https://localhost:8080/"
        },
        "id": "BfK1nvNIJxzc",
        "outputId": "7b9128dc-f46f-47a5-a819-9d00f0aa6d53"
      },
      "execution_count": 11,
      "outputs": [
        {
          "output_type": "stream",
          "name": "stdout",
          "text": [
            "[1, 2, 3, 4, 5, 6]\n",
            "[1, 2, 3, 4, 5, 6, [7, 8]]\n"
          ]
        }
      ]
    },
    {
      "cell_type": "code",
      "source": [
        "#Extend\n",
        "L = [1,2,3,4,5]\n",
        "L.extend([6,7,8])\n",
        "print(L)\n",
        "L.extend('delhi')\n",
        "print(L)"
      ],
      "metadata": {
        "colab": {
          "base_uri": "https://localhost:8080/"
        },
        "id": "DfKZUm4QK6AH",
        "outputId": "fa7b3cb9-6c66-4f03-f40a-8786b4adcf78"
      },
      "execution_count": 12,
      "outputs": [
        {
          "output_type": "stream",
          "name": "stdout",
          "text": [
            "[1, 2, 3, 4, 5, 6, 7, 8]\n",
            "[1, 2, 3, 4, 5, 6, 7, 8, 'd', 'e', 'l', 'h', 'i']\n"
          ]
        }
      ]
    },
    {
      "cell_type": "code",
      "source": [
        "# Insert\n",
        "L = [1,2,3,4,5]\n",
        "L.insert(0,0)\n",
        "print(L)"
      ],
      "metadata": {
        "colab": {
          "base_uri": "https://localhost:8080/"
        },
        "id": "My6umpe6LHHP",
        "outputId": "170842da-1065-41be-c7c8-51ff6f3a9158"
      },
      "execution_count": 10,
      "outputs": [
        {
          "output_type": "stream",
          "name": "stdout",
          "text": [
            "[0, 1, 2, 3, 4, 5]\n"
          ]
        }
      ]
    },
    {
      "cell_type": "markdown",
      "source": [
        "**Editing item in a List**"
      ],
      "metadata": {
        "id": "IjZ23m8fMOf7"
      }
    },
    {
      "cell_type": "code",
      "source": [
        "L = [1,2,3,4,5]\n",
        "\n",
        "# editing with indexing\n",
        "L[-1] = 500\n",
        "print(L)\n",
        "\n",
        "# editing with slicing\n",
        "L[1:3] = [200,300]\n",
        "print(L)"
      ],
      "metadata": {
        "colab": {
          "base_uri": "https://localhost:8080/"
        },
        "id": "qkdkUrddMbKV",
        "outputId": "b8fd6bc9-bd75-477b-caff-0b2fb765a03d"
      },
      "execution_count": 14,
      "outputs": [
        {
          "output_type": "stream",
          "name": "stdout",
          "text": [
            "[1, 2, 3, 4, 500]\n",
            "[1, 200, 300, 4, 500]\n"
          ]
        }
      ]
    },
    {
      "cell_type": "markdown",
      "source": [
        "**Deleting items from a list**"
      ],
      "metadata": {
        "id": "yYuFgT7SNReS"
      }
    },
    {
      "cell_type": "code",
      "source": [
        "#delete\n",
        "L = [1,2,3,4,5]\n",
        "\n",
        "#indexing\n",
        "del L[0]\n",
        "print(L)\n",
        "\n",
        "#slicing\n",
        "del L[2:4]\n",
        "print(L)"
      ],
      "metadata": {
        "colab": {
          "base_uri": "https://localhost:8080/"
        },
        "id": "Etr73IYPMjVQ",
        "outputId": "00f71737-bd7e-44bb-d441-dcdd12920e07"
      },
      "execution_count": 15,
      "outputs": [
        {
          "output_type": "stream",
          "name": "stdout",
          "text": [
            "[2, 3, 4, 5]\n",
            "[2, 3]\n"
          ]
        }
      ]
    },
    {
      "cell_type": "code",
      "source": [
        "#remove\n",
        "L = [1,2,3,4,5]\n",
        "L.remove(2)\n",
        "print(L)"
      ],
      "metadata": {
        "colab": {
          "base_uri": "https://localhost:8080/"
        },
        "id": "jcuCgJmJNxTK",
        "outputId": "eb3ede4d-70b2-4b63-a919-fa40ebd2cc6d"
      },
      "execution_count": 16,
      "outputs": [
        {
          "output_type": "stream",
          "name": "stdout",
          "text": [
            "[1, 3, 4, 5]\n"
          ]
        }
      ]
    },
    {
      "cell_type": "code",
      "source": [],
      "metadata": {
        "id": "dxQBZfcOOrAU"
      },
      "execution_count": null,
      "outputs": []
    }
  ]
}